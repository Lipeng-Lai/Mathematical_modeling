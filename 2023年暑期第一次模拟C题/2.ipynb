{
 "cells": [
  {
   "cell_type": "code",
   "execution_count": 14,
   "metadata": {},
   "outputs": [],
   "source": [
    "import numpy as np\n",
    "import matplotlib.pyplot as plt\n",
    "import pandas as pd\n",
    "import sklearn"
   ]
  },
  {
   "cell_type": "code",
   "execution_count": 15,
   "metadata": {},
   "outputs": [
    {
     "name": "stdout",
     "output_type": "stream",
     "text": [
      "[[34.  2.  5. ...  3. 13.  9.]\n",
      " [33.  2.  5. ...  0.  0.  3.]\n",
      " [37.  2.  5. ...  4.  8.  9.]\n",
      " ...\n",
      " [31.  2.  5. ...  0.  3.  1.]\n",
      " [27.  2.  3. ...  1. 10.  5.]\n",
      " [32.  2.  5. ... 10. 10.  6.]]\n",
      "[4 2 2 4 2 2 3 3 4 2 4 3 2 2 4 2 2 3 2 4 2 3 4 4 2 2 3 3 4 2 4 2 4 2 2 3 4\n",
      " 4 3 2 3 4 2 4 4 3 4 2 4 4 3 3 1 2 1 3 2 2 4 2 3 2 2 4 3 2 4 1 2 3 2 4 1 2\n",
      " 2 4 4 2 2 2 2 1 2 2 1 2 2 2 4 2 2 3 3 2 3 1 2 2 4 2 2 1 4 4 2 4 3 2 3 3 4\n",
      " 2 2 3 3 4 2 3 4 2 3 4 3 1 4 2 2 4 4 4 4 1 3 2 2 3 4 3 2 4 2 2 2 3 2 1 4 2\n",
      " 4 2 2 4 3 2 2 4 4 4 2 4 3 1 2 4 4 3 3 3 3 4 3 3 2 2 2 4 4 2 2 2 3 3 3 3 1\n",
      " 4 3 2 2 3 3 3 3 4 4 4 2 4 3 2 2 2 4 4 3 4 4 2 2 2 2 3 4 3 2 3 3 2 4 4 4 3\n",
      " 3 3 2 2 1 3 1 4 3 2 4 1 4 1 3 3 1 4 2 2 4 4 3 4 4 3 4 2 4 4 4 3 3 4 4 4 1\n",
      " 4 2 3 4 3 2 1 1 3 4 3 1 4 3 4 4 3 4 3 1 3 4 2 4 3 3 4 1 3 4 3 1 2 4 4 4 3\n",
      " 4 2 3 4 3 1 4 2 4 1 4 3 3 2 1 3 2 4 2 2 2 2 4 1 4 2 3 2 1 2 2 3 3 2 2 2 2\n",
      " 2 2 4 2 1 1 2 2 1 4 2 3 3 2 2 2 3 2 3 2 4 4 2 2 2 4 4 1 2 4 4 2 4 1 2 3 2\n",
      " 4 4 2 1 4 4 2 2 3 3 3 2 3 4 4 3 4 4 3]\n"
     ]
    }
   ],
   "source": [
    "dataset = pd.read_excel('./第4题最终数据.xlsx')\n",
    "X = dataset.iloc[:, 0 : 8].values\n",
    "print(X)\n",
    "y = dataset.iloc[:, -1].values\n",
    "print(y)"
   ]
  },
  {
   "cell_type": "code",
   "execution_count": 16,
   "metadata": {},
   "outputs": [],
   "source": [
    "from sklearn.model_selection import train_test_split\n",
    "X_train, X_test, y_train, y_test = train_test_split(X, y, test_size = 0.10, random_state = 0)"
   ]
  },
  {
   "cell_type": "code",
   "execution_count": 17,
   "metadata": {},
   "outputs": [],
   "source": [
    "from sklearn.preprocessing import StandardScaler\n",
    "sc = StandardScaler()\n",
    "X_train = sc.fit_transform(X_train)\n",
    "X_test = sc.transform(X_test)"
   ]
  },
  {
   "cell_type": "code",
   "execution_count": 18,
   "metadata": {},
   "outputs": [
    {
     "data": {
      "text/html": [
       "<style>#sk-container-id-2 {color: black;}#sk-container-id-2 pre{padding: 0;}#sk-container-id-2 div.sk-toggleable {background-color: white;}#sk-container-id-2 label.sk-toggleable__label {cursor: pointer;display: block;width: 100%;margin-bottom: 0;padding: 0.3em;box-sizing: border-box;text-align: center;}#sk-container-id-2 label.sk-toggleable__label-arrow:before {content: \"▸\";float: left;margin-right: 0.25em;color: #696969;}#sk-container-id-2 label.sk-toggleable__label-arrow:hover:before {color: black;}#sk-container-id-2 div.sk-estimator:hover label.sk-toggleable__label-arrow:before {color: black;}#sk-container-id-2 div.sk-toggleable__content {max-height: 0;max-width: 0;overflow: hidden;text-align: left;background-color: #f0f8ff;}#sk-container-id-2 div.sk-toggleable__content pre {margin: 0.2em;color: black;border-radius: 0.25em;background-color: #f0f8ff;}#sk-container-id-2 input.sk-toggleable__control:checked~div.sk-toggleable__content {max-height: 200px;max-width: 100%;overflow: auto;}#sk-container-id-2 input.sk-toggleable__control:checked~label.sk-toggleable__label-arrow:before {content: \"▾\";}#sk-container-id-2 div.sk-estimator input.sk-toggleable__control:checked~label.sk-toggleable__label {background-color: #d4ebff;}#sk-container-id-2 div.sk-label input.sk-toggleable__control:checked~label.sk-toggleable__label {background-color: #d4ebff;}#sk-container-id-2 input.sk-hidden--visually {border: 0;clip: rect(1px 1px 1px 1px);clip: rect(1px, 1px, 1px, 1px);height: 1px;margin: -1px;overflow: hidden;padding: 0;position: absolute;width: 1px;}#sk-container-id-2 div.sk-estimator {font-family: monospace;background-color: #f0f8ff;border: 1px dotted black;border-radius: 0.25em;box-sizing: border-box;margin-bottom: 0.5em;}#sk-container-id-2 div.sk-estimator:hover {background-color: #d4ebff;}#sk-container-id-2 div.sk-parallel-item::after {content: \"\";width: 100%;border-bottom: 1px solid gray;flex-grow: 1;}#sk-container-id-2 div.sk-label:hover label.sk-toggleable__label {background-color: #d4ebff;}#sk-container-id-2 div.sk-serial::before {content: \"\";position: absolute;border-left: 1px solid gray;box-sizing: border-box;top: 0;bottom: 0;left: 50%;z-index: 0;}#sk-container-id-2 div.sk-serial {display: flex;flex-direction: column;align-items: center;background-color: white;padding-right: 0.2em;padding-left: 0.2em;position: relative;}#sk-container-id-2 div.sk-item {position: relative;z-index: 1;}#sk-container-id-2 div.sk-parallel {display: flex;align-items: stretch;justify-content: center;background-color: white;position: relative;}#sk-container-id-2 div.sk-item::before, #sk-container-id-2 div.sk-parallel-item::before {content: \"\";position: absolute;border-left: 1px solid gray;box-sizing: border-box;top: 0;bottom: 0;left: 50%;z-index: -1;}#sk-container-id-2 div.sk-parallel-item {display: flex;flex-direction: column;z-index: 1;position: relative;background-color: white;}#sk-container-id-2 div.sk-parallel-item:first-child::after {align-self: flex-end;width: 50%;}#sk-container-id-2 div.sk-parallel-item:last-child::after {align-self: flex-start;width: 50%;}#sk-container-id-2 div.sk-parallel-item:only-child::after {width: 0;}#sk-container-id-2 div.sk-dashed-wrapped {border: 1px dashed gray;margin: 0 0.4em 0.5em 0.4em;box-sizing: border-box;padding-bottom: 0.4em;background-color: white;}#sk-container-id-2 div.sk-label label {font-family: monospace;font-weight: bold;display: inline-block;line-height: 1.2em;}#sk-container-id-2 div.sk-label-container {text-align: center;}#sk-container-id-2 div.sk-container {/* jupyter's `normalize.less` sets `[hidden] { display: none; }` but bootstrap.min.css set `[hidden] { display: none !important; }` so we also need the `!important` here to be able to override the default hidden behavior on the sphinx rendered scikit-learn.org. See: https://github.com/scikit-learn/scikit-learn/issues/21755 */display: inline-block !important;position: relative;}#sk-container-id-2 div.sk-text-repr-fallback {display: none;}</style><div id=\"sk-container-id-2\" class=\"sk-top-container\"><div class=\"sk-text-repr-fallback\"><pre>KNeighborsClassifier(metric=&#x27;euclidean&#x27;, n_neighbors=3)</pre><b>In a Jupyter environment, please rerun this cell to show the HTML representation or trust the notebook. <br />On GitHub, the HTML representation is unable to render, please try loading this page with nbviewer.org.</b></div><div class=\"sk-container\" hidden><div class=\"sk-item\"><div class=\"sk-estimator sk-toggleable\"><input class=\"sk-toggleable__control sk-hidden--visually\" id=\"sk-estimator-id-2\" type=\"checkbox\" checked><label for=\"sk-estimator-id-2\" class=\"sk-toggleable__label sk-toggleable__label-arrow\">KNeighborsClassifier</label><div class=\"sk-toggleable__content\"><pre>KNeighborsClassifier(metric=&#x27;euclidean&#x27;, n_neighbors=3)</pre></div></div></div></div></div>"
      ],
      "text/plain": [
       "KNeighborsClassifier(metric='euclidean', n_neighbors=3)"
      ]
     },
     "execution_count": 18,
     "metadata": {},
     "output_type": "execute_result"
    }
   ],
   "source": [
    "from sklearn.neighbors import KNeighborsClassifier\n",
    "classifier = KNeighborsClassifier(n_neighbors = 3, metric = 'euclidean')\n",
    "classifier.fit(X_train, y_train)"
   ]
  },
  {
   "cell_type": "code",
   "execution_count": 19,
   "metadata": {},
   "outputs": [],
   "source": [
    "y_pred = classifier.predict(X_test)"
   ]
  },
  {
   "cell_type": "code",
   "execution_count": 20,
   "metadata": {},
   "outputs": [
    {
     "data": {
      "text/plain": [
       "array([4, 3, 2, 2, 4, 4, 4, 1, 2, 2, 4, 3, 2, 2, 1, 2, 2, 3, 2, 1, 2, 4,\n",
       "       2, 1, 2, 3, 2, 2, 2, 1, 4, 1, 4, 4, 1, 2, 2, 2, 4], dtype=int64)"
      ]
     },
     "execution_count": 20,
     "metadata": {},
     "output_type": "execute_result"
    }
   ],
   "source": [
    "y_pred"
   ]
  },
  {
   "cell_type": "code",
   "execution_count": 21,
   "metadata": {},
   "outputs": [
    {
     "data": {
      "text/plain": [
       "array([1, 4, 2, 4, 3, 3, 4, 4, 2, 2, 2, 4, 3, 1, 4, 2, 2, 3, 3, 1, 2, 2,\n",
       "       4, 4, 2, 4, 4, 2, 2, 3, 1, 4, 2, 4, 3, 2, 3, 2, 4], dtype=int64)"
      ]
     },
     "execution_count": 21,
     "metadata": {},
     "output_type": "execute_result"
    }
   ],
   "source": [
    "y_test"
   ]
  },
  {
   "cell_type": "code",
   "execution_count": 22,
   "metadata": {},
   "outputs": [
    {
     "data": {
      "text/plain": [
       "0.41025641025641024"
      ]
     },
     "execution_count": 22,
     "metadata": {},
     "output_type": "execute_result"
    }
   ],
   "source": [
    "from sklearn.metrics import confusion_matrix,accuracy_score\n",
    "cm = confusion_matrix(y_test, y_pred)\n",
    "ac = accuracy_score(y_test,y_pred)\n",
    "ac"
   ]
  },
  {
   "cell_type": "code",
   "execution_count": 23,
   "metadata": {},
   "outputs": [
    {
     "data": {
      "text/plain": [
       "array([4, 4, 3, 2, 4, 3, 3, 2, 2, 2, 3, 2, 2, 4, 4, 2, 2, 2, 3, 2, 1, 3,\n",
       "       2, 1, 2, 2, 2, 2, 2, 2, 3, 4, 3, 3, 2, 2, 3, 3, 2, 3, 2, 4, 3, 2,\n",
       "       2, 4, 2, 4, 4, 1, 2, 3, 1, 2, 4, 1, 2, 3, 3, 1, 3, 2, 4, 2, 3, 3,\n",
       "       2, 4, 4, 1, 3, 4, 2, 3, 4, 4, 2, 2, 4, 4, 2, 2, 1, 2, 4, 2, 3, 3,\n",
       "       3, 2, 3, 4, 3, 2, 4, 3, 2, 2, 2, 4, 3, 3, 4, 4, 4, 3, 2, 1, 1, 2,\n",
       "       2, 2, 2, 2, 3, 2, 2, 2, 4, 3, 3, 3, 3, 3, 4, 3, 4, 4, 2, 3, 4, 3,\n",
       "       3, 2, 4, 3, 4, 1, 3, 2, 2, 4, 4, 4, 2, 2, 3, 3, 3, 3, 4, 3, 3, 4,\n",
       "       2, 4, 4, 4, 4, 2, 2, 3, 3, 2, 4, 2, 4, 2, 1, 3, 4, 3, 3, 4, 3, 3,\n",
       "       2, 1, 2, 3, 4, 4, 1, 2, 2, 2, 4, 2, 4, 3, 2, 3, 4, 3, 2, 4, 4, 4,\n",
       "       3, 2, 2, 4, 2, 3, 1, 1, 4, 2, 4, 3, 4, 4, 3, 2, 2, 2, 1, 3, 4, 4,\n",
       "       2, 2, 1, 4, 3, 2, 3, 3, 2, 1, 3, 1, 2, 1, 4, 4, 4, 4, 1, 3, 2, 3,\n",
       "       3, 2, 1, 3, 2, 4, 4, 2, 4, 4, 4, 2, 2, 4, 2, 2, 4, 3, 4, 1, 2, 4,\n",
       "       3, 4, 2, 3, 3, 4, 3, 3, 1, 2, 4, 4, 4, 1, 4, 2, 2, 3, 2, 3, 2, 2,\n",
       "       2, 2, 4, 3, 2, 4, 4, 4, 3, 2, 2, 4, 1, 4, 3, 4, 4, 3, 4, 2, 4, 4,\n",
       "       4, 2, 4, 3, 2, 4, 2, 2, 2, 1, 4, 4, 4, 4, 1, 1, 2, 2, 3, 1, 1, 2,\n",
       "       4, 2, 4, 2, 4, 2, 2, 4, 4, 3, 3, 2, 4, 4, 4, 2, 3, 3, 2, 2],\n",
       "      dtype=int64)"
      ]
     },
     "execution_count": 23,
     "metadata": {},
     "output_type": "execute_result"
    }
   ],
   "source": [
    "y_train"
   ]
  },
  {
   "cell_type": "code",
   "execution_count": 24,
   "metadata": {},
   "outputs": [
    {
     "data": {
      "text/plain": [
       "array([2, 2, 3, 4, 2, 2, 1, 2, 1, 4, 3, 3, 2, 4, 1, 2, 2, 2, 3, 2, 3, 3,\n",
       "       2, 1, 2, 1, 2, 2, 2, 2, 2, 4, 2, 3, 2, 1, 3, 1, 2, 3, 2, 2, 3, 2,\n",
       "       2, 4, 2, 4, 2, 1, 1, 4, 1, 1, 4, 4, 2, 3, 2, 3, 3, 2, 2, 2, 3, 3,\n",
       "       3, 4, 2, 1, 3, 2, 2, 2, 4, 2, 2, 2, 1, 4, 2, 2, 1, 2, 4, 2, 3, 2,\n",
       "       3, 2, 3, 2, 2, 1, 2, 3, 2, 3, 4, 2, 1, 2, 2, 4, 2, 3, 2, 3, 3, 2,\n",
       "       2, 2, 2, 2, 3, 2, 2, 2, 2, 1, 1, 3, 3, 3, 4, 2, 4, 4, 2, 3, 1, 3,\n",
       "       4, 2, 4, 3, 3, 1, 2, 2, 4, 2, 4, 3, 1, 2, 4, 3, 3, 3, 2, 2, 3, 2,\n",
       "       2, 1, 1, 4, 4, 2, 3, 3, 1, 3, 3, 1, 3, 2, 1, 1, 2, 1, 1, 2, 1, 3,\n",
       "       2, 1, 2, 2, 4, 4, 1, 2, 2, 2, 4, 2, 4, 4, 2, 1, 4, 3, 2, 2, 4, 4,\n",
       "       4, 1, 2, 2, 2, 3, 1, 1, 2, 2, 4, 2, 2, 4, 3, 2, 2, 2, 1, 1, 4, 2,\n",
       "       2, 2, 1, 4, 3, 1, 2, 3, 2, 1, 1, 4, 2, 1, 3, 4, 1, 1, 1, 1, 2, 1,\n",
       "       3, 2, 2, 3, 2, 3, 1, 2, 2, 4, 4, 1, 2, 1, 2, 2, 4, 2, 1, 2, 2, 4,\n",
       "       3, 2, 4, 3, 2, 1, 1, 3, 1, 2, 3, 2, 4, 2, 4, 2, 2, 3, 2, 4, 3, 4,\n",
       "       3, 3, 4, 2, 2, 2, 2, 2, 3, 2, 2, 1, 1, 4, 1, 4, 2, 3, 4, 2, 4, 2,\n",
       "       4, 2, 4, 4, 2, 4, 2, 2, 3, 1, 2, 4, 4, 4, 3, 1, 4, 4, 2, 1, 1, 1,\n",
       "       1, 2, 3, 4, 1, 1, 3, 3, 2, 3, 3, 2, 4, 4, 4, 2, 2, 3, 2, 2],\n",
       "      dtype=int64)"
      ]
     },
     "execution_count": 24,
     "metadata": {},
     "output_type": "execute_result"
    }
   ],
   "source": [
    "y_pred = classifier.predict(X_train)\n",
    "y_pred"
   ]
  },
  {
   "cell_type": "code",
   "execution_count": 25,
   "metadata": {},
   "outputs": [
    {
     "data": {
      "text/plain": [
       "0.5914285714285714"
      ]
     },
     "execution_count": 25,
     "metadata": {},
     "output_type": "execute_result"
    }
   ],
   "source": [
    "ac = accuracy_score(y_train, y_pred)\n",
    "ac"
   ]
  },
  {
   "cell_type": "code",
   "execution_count": 26,
   "metadata": {},
   "outputs": [
    {
     "data": {
      "text/html": [
       "<div>\n",
       "<style scoped>\n",
       "    .dataframe tbody tr th:only-of-type {\n",
       "        vertical-align: middle;\n",
       "    }\n",
       "\n",
       "    .dataframe tbody tr th {\n",
       "        vertical-align: top;\n",
       "    }\n",
       "\n",
       "    .dataframe thead th {\n",
       "        text-align: right;\n",
       "    }\n",
       "</style>\n",
       "<table border=\"1\" class=\"dataframe\">\n",
       "  <thead>\n",
       "    <tr style=\"text-align: right;\">\n",
       "      <th></th>\n",
       "      <th>母亲年龄</th>\n",
       "      <th>婚姻状况</th>\n",
       "      <th>教育程度</th>\n",
       "      <th>妊娠时间（周数）</th>\n",
       "      <th>分娩方式</th>\n",
       "      <th>CBTS</th>\n",
       "      <th>EPDS</th>\n",
       "      <th>HADS</th>\n",
       "    </tr>\n",
       "  </thead>\n",
       "  <tbody>\n",
       "    <tr>\n",
       "      <th>0</th>\n",
       "      <td>29</td>\n",
       "      <td>2</td>\n",
       "      <td>4</td>\n",
       "      <td>40.0</td>\n",
       "      <td>1</td>\n",
       "      <td>7</td>\n",
       "      <td>15</td>\n",
       "      <td>12</td>\n",
       "    </tr>\n",
       "    <tr>\n",
       "      <th>1</th>\n",
       "      <td>29</td>\n",
       "      <td>2</td>\n",
       "      <td>3</td>\n",
       "      <td>42.0</td>\n",
       "      <td>1</td>\n",
       "      <td>9</td>\n",
       "      <td>14</td>\n",
       "      <td>12</td>\n",
       "    </tr>\n",
       "    <tr>\n",
       "      <th>2</th>\n",
       "      <td>23</td>\n",
       "      <td>2</td>\n",
       "      <td>2</td>\n",
       "      <td>38.5</td>\n",
       "      <td>1</td>\n",
       "      <td>7</td>\n",
       "      <td>12</td>\n",
       "      <td>7</td>\n",
       "    </tr>\n",
       "    <tr>\n",
       "      <th>3</th>\n",
       "      <td>27</td>\n",
       "      <td>2</td>\n",
       "      <td>3</td>\n",
       "      <td>36.3</td>\n",
       "      <td>1</td>\n",
       "      <td>8</td>\n",
       "      <td>4</td>\n",
       "      <td>5</td>\n",
       "    </tr>\n",
       "    <tr>\n",
       "      <th>4</th>\n",
       "      <td>36</td>\n",
       "      <td>2</td>\n",
       "      <td>4</td>\n",
       "      <td>39.0</td>\n",
       "      <td>1</td>\n",
       "      <td>6</td>\n",
       "      <td>6</td>\n",
       "      <td>8</td>\n",
       "    </tr>\n",
       "    <tr>\n",
       "      <th>5</th>\n",
       "      <td>30</td>\n",
       "      <td>2</td>\n",
       "      <td>5</td>\n",
       "      <td>41.2</td>\n",
       "      <td>1</td>\n",
       "      <td>5</td>\n",
       "      <td>8</td>\n",
       "      <td>5</td>\n",
       "    </tr>\n",
       "    <tr>\n",
       "      <th>6</th>\n",
       "      <td>28</td>\n",
       "      <td>2</td>\n",
       "      <td>2</td>\n",
       "      <td>40.6</td>\n",
       "      <td>1</td>\n",
       "      <td>8</td>\n",
       "      <td>11</td>\n",
       "      <td>9</td>\n",
       "    </tr>\n",
       "    <tr>\n",
       "      <th>7</th>\n",
       "      <td>32</td>\n",
       "      <td>2</td>\n",
       "      <td>5</td>\n",
       "      <td>37.0</td>\n",
       "      <td>1</td>\n",
       "      <td>3</td>\n",
       "      <td>6</td>\n",
       "      <td>7</td>\n",
       "    </tr>\n",
       "    <tr>\n",
       "      <th>8</th>\n",
       "      <td>28</td>\n",
       "      <td>2</td>\n",
       "      <td>5</td>\n",
       "      <td>38.0</td>\n",
       "      <td>1</td>\n",
       "      <td>7</td>\n",
       "      <td>11</td>\n",
       "      <td>5</td>\n",
       "    </tr>\n",
       "    <tr>\n",
       "      <th>9</th>\n",
       "      <td>31</td>\n",
       "      <td>2</td>\n",
       "      <td>4</td>\n",
       "      <td>42.0</td>\n",
       "      <td>1</td>\n",
       "      <td>4</td>\n",
       "      <td>5</td>\n",
       "      <td>8</td>\n",
       "    </tr>\n",
       "    <tr>\n",
       "      <th>10</th>\n",
       "      <td>25</td>\n",
       "      <td>2</td>\n",
       "      <td>2</td>\n",
       "      <td>40.5</td>\n",
       "      <td>1</td>\n",
       "      <td>16</td>\n",
       "      <td>22</td>\n",
       "      <td>15</td>\n",
       "    </tr>\n",
       "    <tr>\n",
       "      <th>11</th>\n",
       "      <td>27</td>\n",
       "      <td>2</td>\n",
       "      <td>5</td>\n",
       "      <td>40.4</td>\n",
       "      <td>1</td>\n",
       "      <td>4</td>\n",
       "      <td>6</td>\n",
       "      <td>10</td>\n",
       "    </tr>\n",
       "    <tr>\n",
       "      <th>12</th>\n",
       "      <td>33</td>\n",
       "      <td>2</td>\n",
       "      <td>5</td>\n",
       "      <td>39.0</td>\n",
       "      <td>1</td>\n",
       "      <td>6</td>\n",
       "      <td>6</td>\n",
       "      <td>4</td>\n",
       "    </tr>\n",
       "    <tr>\n",
       "      <th>13</th>\n",
       "      <td>25</td>\n",
       "      <td>2</td>\n",
       "      <td>3</td>\n",
       "      <td>39.0</td>\n",
       "      <td>1</td>\n",
       "      <td>0</td>\n",
       "      <td>4</td>\n",
       "      <td>5</td>\n",
       "    </tr>\n",
       "    <tr>\n",
       "      <th>14</th>\n",
       "      <td>28</td>\n",
       "      <td>2</td>\n",
       "      <td>2</td>\n",
       "      <td>41.0</td>\n",
       "      <td>1</td>\n",
       "      <td>9</td>\n",
       "      <td>6</td>\n",
       "      <td>5</td>\n",
       "    </tr>\n",
       "    <tr>\n",
       "      <th>15</th>\n",
       "      <td>31</td>\n",
       "      <td>2</td>\n",
       "      <td>3</td>\n",
       "      <td>39.5</td>\n",
       "      <td>1</td>\n",
       "      <td>1</td>\n",
       "      <td>4</td>\n",
       "      <td>4</td>\n",
       "    </tr>\n",
       "    <tr>\n",
       "      <th>16</th>\n",
       "      <td>26</td>\n",
       "      <td>2</td>\n",
       "      <td>2</td>\n",
       "      <td>37.0</td>\n",
       "      <td>1</td>\n",
       "      <td>4</td>\n",
       "      <td>9</td>\n",
       "      <td>14</td>\n",
       "    </tr>\n",
       "    <tr>\n",
       "      <th>17</th>\n",
       "      <td>26</td>\n",
       "      <td>2</td>\n",
       "      <td>5</td>\n",
       "      <td>39.0</td>\n",
       "      <td>1</td>\n",
       "      <td>0</td>\n",
       "      <td>3</td>\n",
       "      <td>3</td>\n",
       "    </tr>\n",
       "    <tr>\n",
       "      <th>18</th>\n",
       "      <td>27</td>\n",
       "      <td>2</td>\n",
       "      <td>5</td>\n",
       "      <td>41.2</td>\n",
       "      <td>1</td>\n",
       "      <td>0</td>\n",
       "      <td>0</td>\n",
       "      <td>4</td>\n",
       "    </tr>\n",
       "    <tr>\n",
       "      <th>19</th>\n",
       "      <td>31</td>\n",
       "      <td>2</td>\n",
       "      <td>5</td>\n",
       "      <td>38.0</td>\n",
       "      <td>1</td>\n",
       "      <td>3</td>\n",
       "      <td>7</td>\n",
       "      <td>7</td>\n",
       "    </tr>\n",
       "  </tbody>\n",
       "</table>\n",
       "</div>"
      ],
      "text/plain": [
       "    母亲年龄  婚姻状况  教育程度  妊娠时间（周数）  分娩方式  CBTS  EPDS  HADS\n",
       "0     29     2     4      40.0     1     7    15    12\n",
       "1     29     2     3      42.0     1     9    14    12\n",
       "2     23     2     2      38.5     1     7    12     7\n",
       "3     27     2     3      36.3     1     8     4     5\n",
       "4     36     2     4      39.0     1     6     6     8\n",
       "5     30     2     5      41.2     1     5     8     5\n",
       "6     28     2     2      40.6     1     8    11     9\n",
       "7     32     2     5      37.0     1     3     6     7\n",
       "8     28     2     5      38.0     1     7    11     5\n",
       "9     31     2     4      42.0     1     4     5     8\n",
       "10    25     2     2      40.5     1    16    22    15\n",
       "11    27     2     5      40.4     1     4     6    10\n",
       "12    33     2     5      39.0     1     6     6     4\n",
       "13    25     2     3      39.0     1     0     4     5\n",
       "14    28     2     2      41.0     1     9     6     5\n",
       "15    31     2     3      39.5     1     1     4     4\n",
       "16    26     2     2      37.0     1     4     9    14\n",
       "17    26     2     5      39.0     1     0     3     3\n",
       "18    27     2     5      41.2     1     0     0     4\n",
       "19    31     2     5      38.0     1     3     7     7"
      ]
     },
     "execution_count": 26,
     "metadata": {},
     "output_type": "execute_result"
    }
   ],
   "source": [
    "new_predict = pd.read_excel('./问题2预测数据.xlsx')\n",
    "new_predict"
   ]
  }
 ],
 "metadata": {
  "kernelspec": {
   "display_name": "base",
   "language": "python",
   "name": "python3"
  },
  "language_info": {
   "codemirror_mode": {
    "name": "ipython",
    "version": 3
   },
   "file_extension": ".py",
   "mimetype": "text/x-python",
   "name": "python",
   "nbconvert_exporter": "python",
   "pygments_lexer": "ipython3",
   "version": "3.10.11"
  },
  "orig_nbformat": 4
 },
 "nbformat": 4,
 "nbformat_minor": 2
}
